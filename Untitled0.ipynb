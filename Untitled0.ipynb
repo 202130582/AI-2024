{
  "nbformat": 4,
  "nbformat_minor": 0,
  "metadata": {
    "colab": {
      "provenance": [],
      "authorship_tag": "ABX9TyNd4qHDmG8I9Y4TOMuABw8D",
      "include_colab_link": true
    },
    "kernelspec": {
      "name": "python3",
      "display_name": "Python 3"
    },
    "language_info": {
      "name": "python"
    }
  },
  "cells": [
    {
      "cell_type": "markdown",
      "metadata": {
        "id": "view-in-github",
        "colab_type": "text"
      },
      "source": [
        "<a href=\"https://colab.research.google.com/github/202130582/AI-2024/blob/main/Untitled0.ipynb\" target=\"_parent\"><img src=\"https://colab.research.google.com/assets/colab-badge.svg\" alt=\"Open In Colab\"/></a>"
      ]
    },
    {
      "cell_type": "code",
      "execution_count": 1,
      "metadata": {
        "colab": {
          "base_uri": "https://localhost:8080/"
        },
        "id": "s0As6Q4IHy0J",
        "outputId": "df642290-b97f-4849-b341-bc68dbc84caf"
      },
      "outputs": [
        {
          "output_type": "stream",
          "name": "stdout",
          "text": [
            "Sum: 15\n",
            "Difference:\n",
            "Product: 50\n",
            "Division: 2.0\n"
          ]
        }
      ],
      "source": [
        "a = 10\n",
        "b = 5\n",
        "sum = a+b\n",
        "difference = a-b\n",
        "product = a*b\n",
        "division = a/b\n",
        "\n",
        "print(\"Sum:\",sum)\n",
        "print(\"Difference:\",)\n",
        "print(\"Product:\", product)\n",
        "print(\"Division:\", division)\n"
      ]
    },
    {
      "cell_type": "markdown",
      "source": [
        "\n"
      ],
      "metadata": {
        "id": "xR382PASH20B"
      }
    },
    {
      "cell_type": "code",
      "source": [
        "print (f\"The sum of the two numbers {a},{b}is {sum}\")"
      ],
      "metadata": {
        "colab": {
          "base_uri": "https://localhost:8080/"
        },
        "id": "QvuBn6RtLJVL",
        "outputId": "9d86011b-0009-4559-c562-269a25146293"
      },
      "execution_count": 2,
      "outputs": [
        {
          "output_type": "stream",
          "name": "stdout",
          "text": [
            "The sum of the two numbers 10,5is 15\n"
          ]
        }
      ]
    },
    {
      "cell_type": "code",
      "source": [
        "x = 13//2\n",
        "print(x)\n",
        "y = 13%2\n",
        "print(y)\n"
      ],
      "metadata": {
        "colab": {
          "base_uri": "https://localhost:8080/"
        },
        "id": "_l426n6lMiAF",
        "outputId": "23a33e2c-13c8-44a0-a483-80c79321f61c"
      },
      "execution_count": 7,
      "outputs": [
        {
          "output_type": "stream",
          "name": "stdout",
          "text": [
            "6\n",
            "1\n"
          ]
        }
      ]
    },
    {
      "cell_type": "code",
      "source": [
        "x = 10\n",
        "y = 5\n",
        "\n",
        "is_greater = x>y\n",
        "is_equal = x==y\n",
        "is_not_equal = x !=y\n",
        "\n",
        "print(\"Is x greater than y?\", is_greater)\n",
        "print(\"Is x equal y?\", is_equal)\n",
        "print(\"Is x not equal to y?\", is_not_equal)\n"
      ],
      "metadata": {
        "colab": {
          "base_uri": "https://localhost:8080/"
        },
        "id": "2wDkD2jGNkp9",
        "outputId": "b2e80104-b139-4eb6-9659-58503db0b31f"
      },
      "execution_count": 8,
      "outputs": [
        {
          "output_type": "stream",
          "name": "stdout",
          "text": [
            "Is x greater than y? True\n",
            "Is x equal y? False\n",
            "Is x not equal to y? True\n"
          ]
        }
      ]
    },
    {
      "cell_type": "code",
      "source": [
        "name =\"Alaa\"\n",
        "age = 55\n",
        "is_professor = True\n",
        "\n",
        "print(f\"{name}s age is {age}. He is a Professor is {is_professor}\")"
      ],
      "metadata": {
        "colab": {
          "base_uri": "https://localhost:8080/"
        },
        "id": "5nWyvh8CV30I",
        "outputId": "4b4dbe15-9350-461e-e41e-62fdf1b7c18e"
      },
      "execution_count": 9,
      "outputs": [
        {
          "output_type": "stream",
          "name": "stdout",
          "text": [
            "Alaas age is 55. He is a Professor is True\n"
          ]
        }
      ]
    },
    {
      "cell_type": "code",
      "source": [
        "def greet(name):\n",
        " return \"Hello,\"+ name + \"!\"\n",
        "\n",
        " my_name = input(\"Enter your name:\")\n",
        " greet(my_name)"
      ],
      "metadata": {
        "id": "klg5Y9ytW_0A"
      },
      "execution_count": 32,
      "outputs": []
    },
    {
      "cell_type": "code",
      "source": [
        "def add_numbers(a,b):\n",
        "  return a+b\n",
        "\n",
        "a =int(input(\"Enter first number:\"))\n",
        "b =int( input(\"Enter second number\"))\n",
        "\n",
        "addition_value = add-numbers(a,b)\n",
        "print(f\"The result of addition for {a},{b} is {addition_value}\")"
      ],
      "metadata": {
        "id": "F_BJwtRIbcpt"
      },
      "execution_count": null,
      "outputs": []
    },
    {
      "cell_type": "code",
      "source": [],
      "metadata": {
        "id": "I5VUAw6dZ3dy"
      },
      "execution_count": null,
      "outputs": []
    }
  ]
}